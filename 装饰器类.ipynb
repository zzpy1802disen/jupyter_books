{
 "cells": [
  {
   "cell_type": "code",
   "execution_count": 9,
   "metadata": {
    "collapsed": true
   },
   "outputs": [],
   "source": [
    "class CheckLogin:\n",
    "    def __init__(self, func_name):\n",
    "        self.func_name = func_name\n",
    "        print('---CheckLogin---', func_name)\n",
    "\n",
    "    def __call__(self,*args, **kwargs):\n",
    "        print('---Check 用户是否登录--')\n",
    "        # 如果已登录\n",
    "        return self.func_name(*args, **kwargs)\n",
    "    \n",
    "class CheckRight:\n",
    "    def __init__(self,right_name):\n",
    "        self.right_name = right_name\n",
    "    \n",
    "    def __call__(self,func):\n",
    "        def wrapper(*args,**kwargs):\n",
    "            print('--验证用户权限-', self.right_name)\n",
    "            return func(*args,**kwargs)\n",
    "        return wrapper"
   ]
  },
  {
   "cell_type": "code",
   "execution_count": 10,
   "metadata": {},
   "outputs": [
    {
     "name": "stdout",
     "output_type": "stream",
     "text": [
      "---CheckLogin--- <function CheckRight.__call__.<locals>.wrapper at 0x104457ea0>\n",
      "---CheckLogin--- <function CheckRight.__call__.<locals>.wrapper at 0x104466268>\n"
     ]
    }
   ],
   "source": [
    "@CheckLogin  \n",
    "@CheckRight('buy')  \n",
    "def buyArt(id):\n",
    "    print('正在购买文章', id)\n",
    "    return 'ok'\n",
    "\n",
    "@CheckLogin\n",
    "@CheckRight('reply')\n",
    "def replyArt(id,msg):\n",
    "    print('评论文章', id, '内容:', msg)\n",
    "    return 'ok'"
   ]
  },
  {
   "cell_type": "code",
   "execution_count": 11,
   "metadata": {},
   "outputs": [
    {
     "name": "stdout",
     "output_type": "stream",
     "text": [
      "---Check 用户是否登录--\n",
      "--验证用户权限- buy\n",
      "正在购买文章 1000\n"
     ]
    },
    {
     "data": {
      "text/plain": [
       "'ok'"
      ]
     },
     "execution_count": 11,
     "metadata": {},
     "output_type": "execute_result"
    }
   ],
   "source": [
    "buyArt(1000)\n",
    "# replyArt(1000,'文章写的真不错')"
   ]
  },
  {
   "cell_type": "markdown",
   "metadata": {},
   "source": [
    "- 无参数， 则会将修饰的函数 buyArt 传入到构造函数中， 默认__call__是包装函数\n",
    "- 有参数，会将参数传给构造函数__init__， 且调用__call__获取包装函数\n"
   ]
  }
 ],
 "metadata": {
  "kernelspec": {
   "display_name": "Python 3",
   "language": "python",
   "name": "python3"
  },
  "language_info": {
   "codemirror_mode": {
    "name": "ipython",
    "version": 3
   },
   "file_extension": ".py",
   "mimetype": "text/x-python",
   "name": "python",
   "nbconvert_exporter": "python",
   "pygments_lexer": "ipython3",
   "version": "3.6.3"
  }
 },
 "nbformat": 4,
 "nbformat_minor": 2
}
