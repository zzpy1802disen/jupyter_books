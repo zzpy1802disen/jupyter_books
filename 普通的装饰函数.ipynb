{
 "cells": [
  {
   "cell_type": "code",
   "execution_count": 19,
   "metadata": {},
   "outputs": [
    {
     "name": "stdout",
     "output_type": "stream",
     "text": [
      "--CHECK-- del_art\n",
      "---日志---\n",
      "--wrapper1-- del_art\n"
     ]
    }
   ],
   "source": [
    "from datetime import datetime\n",
    "\n",
    "# 声明日志的装饰函数（不带参数）\n",
    "def log(func_name):\n",
    "    print('---日志---')\n",
    "    def wrapper(*args, **kwargs):\n",
    "        print('日志---', datetime.now())\n",
    "        return func_name(*args, **kwargs) # 返回是@log修改函数之后的整体（包含@check）\n",
    "    return wrapper\n",
    "    \n",
    "\n",
    "def check(right_name):\n",
    "    print('--CHECK--', right_name)\n",
    "    def wrapper1(func_name):\n",
    "        print('--wrapper1--', right_name)\n",
    "        def wrapper2(*args, **kwargs):\n",
    "            print('－－验证当前用户是否具有 %s 权限－－' % right_name )\n",
    "            # 假如有权限\n",
    "            result =  func_name(*args, **kwargs)\n",
    "            print('--wrapper2--', right_name)\n",
    "            return result\n",
    "        return wrapper2\n",
    "    return wrapper1\n",
    "\n",
    "@log\n",
    "@check('del_art')\n",
    "def delArt(id):\n",
    "    print('正在删除文章 ', id, datetime.now())\n",
    "    return {'status':'ok', 'msg':'删除成功!'}\n",
    "\n",
    "\n",
    "def updateArt(id):\n",
    "    print('正在修改文章', id)\n",
    "    return {'status':'ok', 'msg':'更新成功!'}"
   ]
  },
  {
   "cell_type": "code",
   "execution_count": 20,
   "metadata": {},
   "outputs": [
    {
     "name": "stdout",
     "output_type": "stream",
     "text": [
      "－－验证当前用户是否具有 del_art 权限－－\n",
      "日志--- 2018-07-16 11:43:55.601466\n",
      "正在删除文章  101 2018-07-16 11:43:55.601608\n",
      "--wrapper2-- del_art\n",
      "{'status': 'ok', 'msg': '删除成功!'}\n"
     ]
    }
   ],
   "source": [
    "print(delArt(101))\n",
    "# print(updateArt(102))"
   ]
  },
  {
   "cell_type": "markdown",
   "metadata": {},
   "source": [
    "注意： \n",
    "   多层的装饰函数在初始声明时， 会从内向外执行装饰函数，获取目标函数执行时的包装函数，在目标函数执行时，由上而下(装饰函数声明的顺序)来执行它的包装函数。如上面的@log装饰函数在目标函数执行时，返回log的wrapper包装执行的结果，实际是@check中wrapper2的包装函数。\n",
    "   如果装饰函数带有参数，在初始声明时，会调用这个函数来获取它的包装函数。"
   ]
  }
 ],
 "metadata": {
  "kernelspec": {
   "display_name": "Python 3",
   "language": "python",
   "name": "python3"
  },
  "language_info": {
   "codemirror_mode": {
    "name": "ipython",
    "version": 3
   },
   "file_extension": ".py",
   "mimetype": "text/x-python",
   "name": "python",
   "nbconvert_exporter": "python",
   "pygments_lexer": "ipython3",
   "version": "3.6.3"
  }
 },
 "nbformat": 4,
 "nbformat_minor": 2
}
