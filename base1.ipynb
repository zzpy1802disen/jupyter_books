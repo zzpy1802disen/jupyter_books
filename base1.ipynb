{
 "cells": [
  {
   "cell_type": "code",
   "execution_count": 1,
   "metadata": {},
   "outputs": [
    {
     "data": {
      "text/plain": [
       "'d'"
      ]
     },
     "execution_count": 1,
     "metadata": {},
     "output_type": "execute_result"
    }
   ],
   "source": [
    "a = 100\n",
    "chr(a)"
   ]
  },
  {
   "cell_type": "code",
   "execution_count": 2,
   "metadata": {},
   "outputs": [
    {
     "name": "stdout",
     "output_type": "stream",
     "text": [
      "64\n"
     ]
    }
   ],
   "source": [
    "b = 90\n",
    "print( a & b)"
   ]
  },
  {
   "cell_type": "code",
   "execution_count": 3,
   "metadata": {},
   "outputs": [
    {
     "data": {
      "text/plain": [
       "18"
      ]
     },
     "execution_count": 3,
     "metadata": {},
     "output_type": "execute_result"
    }
   ],
   "source": [
    "c = '0x12'  # 0x开头的字符串表示16进制, 0o开头是8进制\n",
    "# c 转成 十进制的数值?\n",
    "int(c, base=16)"
   ]
  },
  {
   "cell_type": "code",
   "execution_count": 8,
   "metadata": {},
   "outputs": [
    {
     "data": {
      "text/plain": [
       "15"
      ]
     },
     "execution_count": 8,
     "metadata": {},
     "output_type": "execute_result"
    }
   ],
   "source": [
    "d = '0o17'\n",
    "int(d, base=8)"
   ]
  },
  {
   "cell_type": "code",
   "execution_count": 11,
   "metadata": {},
   "outputs": [
    {
     "name": "stdout",
     "output_type": "stream",
     "text": [
      "0b1100100\n",
      "0o144\n",
      "0x64\n"
     ]
    }
   ],
   "source": [
    "print(bin(a))  # 将数值a 转成二进制\n",
    "print(oct(a)) # 将数值a 转成8进制\n",
    "print(hex(a))  # 将数值a 转成16进制"
   ]
  },
  {
   "cell_type": "code",
   "execution_count": 19,
   "metadata": {},
   "outputs": [
    {
     "name": "stdout",
     "output_type": "stream",
     "text": [
      "e6\n"
     ]
    }
   ],
   "source": [
    "bs = bytes('您好'.encode())\n",
    "b1 = bs[0]\n",
    "print(hex(b1)[-2:])"
   ]
  },
  {
   "cell_type": "code",
   "execution_count": 22,
   "metadata": {},
   "outputs": [
    {
     "name": "stdout",
     "output_type": "stream",
     "text": [
      "d2\n"
     ]
    }
   ],
   "source": [
    "# 加密\n",
    "b1 = bs[0]\n",
    "b1 = b1+10 if b1 < 200 else b1-20\n",
    "print(hex(b1)[-2:])"
   ]
  },
  {
   "cell_type": "code",
   "execution_count": 24,
   "metadata": {},
   "outputs": [
    {
     "name": "stdout",
     "output_type": "stream",
     "text": [
      "0xe6\n"
     ]
    }
   ],
   "source": [
    "bt2 = int('0x'+'d2', 16)\n",
    "if bt2-10 < 200:\n",
    "    print(hex(bt2-10))\n",
    "elif bt2+20 > 200:\n",
    "    print(hex(bt2+20))"
   ]
  }
 ],
 "metadata": {
  "kernelspec": {
   "display_name": "Python 3",
   "language": "python",
   "name": "python3"
  },
  "language_info": {
   "codemirror_mode": {
    "name": "ipython",
    "version": 3
   },
   "file_extension": ".py",
   "mimetype": "text/x-python",
   "name": "python",
   "nbconvert_exporter": "python",
   "pygments_lexer": "ipython3",
   "version": "3.6.3"
  }
 },
 "nbformat": 4,
 "nbformat_minor": 2
}
