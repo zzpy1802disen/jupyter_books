{
 "cells": [
  {
   "cell_type": "code",
   "execution_count": 11,
   "metadata": {},
   "outputs": [
    {
     "name": "stdout",
     "output_type": "stream",
     "text": [
      "生成的随机六位字符： S9e1vp\n"
     ]
    }
   ],
   "source": [
    "# 生成6位的数字、大小写字母组成的随机字符\n",
    "import random\n",
    "\n",
    "# 生成 0~ 9 的数字字符\n",
    "def digit_ch():\n",
    "    return chr(random.randint(ord('0'), ord('9')))\n",
    "\n",
    "# 生成 A - Z 的大写字母字符\n",
    "def ach1():\n",
    "    return chr(random.randint(ord('A'), ord('Z')))\n",
    "\n",
    "# 生成 a - z 的大写字母字符\n",
    "def ach2():\n",
    "    return chr(random.randint(ord('a'), ord('z')))\n",
    "chs = []\n",
    "for i in range(6):\n",
    "    r_chg = random.randint(0,2)\n",
    "    ch =  digit_ch() if r_chg == 0 else ach1() if r_chg==1 else ach2()\n",
    "    # print(ch)\n",
    "    chs.append(ch)\n",
    "    \n",
    "print('生成的随机六位字符：',''.join(chs))"
   ]
  },
  {
   "cell_type": "code",
   "execution_count": 15,
   "metadata": {},
   "outputs": [
    {
     "name": "stdout",
     "output_type": "stream",
     "text": [
      "生成的随机六位字符： 8NGCHN\n"
     ]
    }
   ],
   "source": [
    "# 生成 0~ 9, A-Z, a-z 的随机字符\n",
    "def rand_ch(start, end):\n",
    "    return chr(random.randint(ord(start), ord(end)))\n",
    "chs = []\n",
    "\n",
    "for i in range(6):\n",
    "    r_chg = random.randint(0,2)\n",
    "    start, end = '',''\n",
    "    start,end = ('0', '9') if r_chg == 0 else ('A','Z') if r_chg==1 else ('a', 'z')\n",
    "    # print(ch)\n",
    "    chs.append(rand_ch(start,end))\n",
    "    \n",
    "print('生成的随机六位字符：',''.join(chs))\n"
   ]
  },
  {
   "cell_type": "code",
   "execution_count": 16,
   "metadata": {},
   "outputs": [
    {
     "name": "stdout",
     "output_type": "stream",
     "text": [
      "dabc\n"
     ]
    }
   ],
   "source": [
    "#  给定字符串 'abcdabc', 如何快速去重\n",
    "s = 'abcdabc'\n",
    "print(''.join(list(set(s))))"
   ]
  },
  {
   "cell_type": "code",
   "execution_count": 18,
   "metadata": {},
   "outputs": [
    {
     "name": "stdout",
     "output_type": "stream",
     "text": [
      "第一次出现的字符 F\n"
     ]
    }
   ],
   "source": [
    "# 给定字符串 ‘AFBCFA’， 查找到第一个重复的字符\n",
    "s = 'AFBCFA'\n",
    "for index, c in enumerate(s):  # ((0, 'A'), (1, 'F'), ...)\n",
    "    if c in s[0:index]:\n",
    "        print('第一次出现的字符',c)\n",
    "        break"
   ]
  },
  {
   "cell_type": "code",
   "execution_count": 21,
   "metadata": {},
   "outputs": [
    {
     "name": "stdout",
     "output_type": "stream",
     "text": [
      "[('李浩', 4), ('吴天', 3), ('张三', 2), ('Disen', 1)]\n"
     ]
    }
   ],
   "source": [
    "l = [('张三', 2),('Disen', 1),('李浩', 4), ('吴天', 3)]\n",
    "# 排序（按序号从大到小排）\n",
    "l.sort(key=lambda t: t[1], reverse=True)  \n",
    "# 可以使用内置函数 sorted(iterable, key=None,reverse=False）-> list\n",
    "print(l)\n"
   ]
  },
  {
   "cell_type": "code",
   "execution_count": 22,
   "metadata": {},
   "outputs": [
    {
     "name": "stdout",
     "output_type": "stream",
     "text": [
      "{'disen': 'name', 20: 'age'}\n"
     ]
    }
   ],
   "source": [
    "# 最智的代码实现一个字典的key和value互换\n",
    "d = {'name':'disen', 'age':20}\n",
    "d = {value:key for key, value in d.items()}\n",
    "print(d)"
   ]
  },
  {
   "cell_type": "code",
   "execution_count": 23,
   "metadata": {},
   "outputs": [
    {
     "name": "stdout",
     "output_type": "stream",
     "text": [
      "[1, 2, 3, 4, 5, 6]\n"
     ]
    }
   ],
   "source": [
    "# 给定一个列表 [[1,2], [3,4], [5,6]], 用最短的代码将其折分为一个 [1,2,3,4,5,6]\n",
    "l = [[1,2], [3,4], [5,6]]\n",
    "l = [n for item in l for n in item]  # 推导嵌套\n",
    "print(l)"
   ]
  },
  {
   "cell_type": "code",
   "execution_count": 24,
   "metadata": {},
   "outputs": [
    {
     "name": "stdout",
     "output_type": "stream",
     "text": [
      "None\n",
      "{'name': 'Jack', 'age': 20}\n"
     ]
    }
   ],
   "source": [
    "# 合并两个字典\n",
    "d1 = {'name':'Disen'}\n",
    "d2 = {\n",
    "    'name': 'Jack',\n",
    "    'age': 20\n",
    "}\n",
    "\n",
    "print(d1.update(d2))\n",
    "print(d1)"
   ]
  },
  {
   "cell_type": "code",
   "execution_count": 27,
   "metadata": {},
   "outputs": [
    {
     "name": "stdout",
     "output_type": "stream",
     "text": [
      "name\n",
      "age\n",
      "sex\n"
     ]
    }
   ],
   "source": [
    "# 哪些类型是可迭代的 -> Iterable\n",
    "from collections import Iterable\n",
    "\n",
    "# print(isinstance({'name':'disen'}, Iterable))\n",
    "# print(isinstance(set(), Iterable))\n",
    "\n",
    "# 迭代dict类型的时候 ，迭代的是 keys()\n",
    "d = {'name':'disen', 'age':20, 'sex':'女'}\n",
    "for key in d:\n",
    "    print(key)\n"
   ]
  }
 ],
 "metadata": {
  "kernelspec": {
   "display_name": "Python 3",
   "language": "python",
   "name": "python3"
  },
  "language_info": {
   "codemirror_mode": {
    "name": "ipython",
    "version": 3
   },
   "file_extension": ".py",
   "mimetype": "text/x-python",
   "name": "python",
   "nbconvert_exporter": "python",
   "pygments_lexer": "ipython3",
   "version": "3.6.3"
  }
 },
 "nbformat": 4,
 "nbformat_minor": 2
}
