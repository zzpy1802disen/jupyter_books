{
 "cells": [
  {
   "cell_type": "code",
   "execution_count": 3,
   "metadata": {},
   "outputs": [
    {
     "name": "stdout",
     "output_type": "stream",
     "text": [
      "正在打开---正在下载,请等待---\n",
      "->http://www.jd.com->GET\n",
      "下载完成 http://www.jd.com\n",
      "---下载之后的解析处理---\n",
      "('我是下载的内容...', 200)\n"
     ]
    }
   ],
   "source": [
    "# 异步线程＋回调函数\n",
    "\n",
    "from threading import Thread\n",
    "import time\n",
    "import random\n",
    "\n",
    "\n",
    "\n",
    "def download(url, method='GET', data=None, callback=None):\n",
    "    print('正在打开', url,method, sep='->')\n",
    "    time.sleep(random.uniform(5, 10))\n",
    "    print('下载完成', url)\n",
    "    callback(('我是下载的内容...', 200))\n",
    "    \n",
    "\n",
    "def get(url,callback):\n",
    "    # 启动线程，执行下载\n",
    "    t = Thread(target=download,\n",
    "               kwargs={'url':url,'callback': callback})\n",
    "    t.start()\n",
    "    print('---正在下载,请等待---')\n",
    "    \n",
    "def parse(response):\n",
    "    print('---下载之后的解析处理---')\n",
    "    print(response)\n",
    "    \n",
    "get('http://www.jd.com', callback=parse)"
   ]
  },
  {
   "cell_type": "code",
   "execution_count": 8,
   "metadata": {},
   "outputs": [
    {
     "name": "stdout",
     "output_type": "stream",
     "text": [
      "开始下载 www.jd.com\n",
      "下载完成\n",
      "执行 downloader 所需要的时间(秒): 5.004284143447876\n"
     ]
    }
   ],
   "source": [
    "import time\n",
    "\n",
    "# 装饰函数： 用于性能监测， 日志， 权限验证\n",
    "def check_runtime(func):\n",
    "    def wrapper(*args, **kwargs):\n",
    "        start_time = time.time()  # 获取执行目标函数之前的时间戳\n",
    "        # 执行目标函数\n",
    "        result = func(*args, **kwargs)\n",
    "        \n",
    "        # 计算函数执行的时间（秒）\n",
    "        delta_time = time.time() - start_time\n",
    "        print('执行', func.__name__, '所需要的时间(秒):', delta_time)\n",
    "        return result\n",
    "    return wrapper\n",
    "    \n",
    "@check_runtime\n",
    "def downloader(url):\n",
    "    print('开始下载', url)\n",
    "    time.sleep(5)\n",
    "    print('下载完成')\n",
    "    \n",
    "downloader('www.jd.com')"
   ]
  },
  {
   "cell_type": "code",
   "execution_count": 34,
   "metadata": {},
   "outputs": [
    {
     "name": "stdout",
     "output_type": "stream",
     "text": [
      "---a-- SQ\n",
      "---a-- DEL_USER\n",
      "--b--- DEL_USER\n",
      "--b--- SQ\n",
      "---c--- SQ 6\n",
      "---c--- DEL_USER 7\n",
      "正在上报 www.baidu.com disen\n"
     ]
    }
   ],
   "source": [
    "import random\n",
    "\n",
    "# 模拟验证 当前用户是否拥有 申请(上报- SQ)的权限\n",
    "# 声明有参数的装饰函数(三层， 最外层接收参数， 后二层按普通装修函数设计)\n",
    "def check_qx(qxName):\n",
    "    print('---a--', qxName)\n",
    "    def wrapper1(func):\n",
    "        print('--b---', qxName)\n",
    "        def wrapper2(*args, **kwargs):\n",
    "            # 执行目标函数之前，需要验证当前用户是否有qxName权限\n",
    "            # 用户表中： role_id \n",
    "            # 角色表中： qx_rights(权限值)\n",
    "            # 权限表：  qx_id, qx_name, qx_right(权限值)\n",
    "            rights = random.randint(1,10)\n",
    "            print('---c---',qxName,rights)\n",
    "            if (rights >= 6 and qxName== 'SQ') or\\\n",
    "               (rights >= 5 and qxName=='DEL_USER'):\n",
    "                result = func(*args, **kwargs)\n",
    "                return result\n",
    "            else:\n",
    "                print('对不起，您暂无权限', qxName)\n",
    "        return wrapper2\n",
    "    return wrapper1\n",
    "                \n",
    "@check_qx('SQ')\n",
    "@check_qx('DEL_USER')\n",
    "def post_sq(url, data):\n",
    "    print('正在上报', url, data)\n",
    "    \n",
    "\n",
    "def del_user(user_id):\n",
    "    print('正在删除用户', user_id)\n",
    "    \n",
    "post_sq('www.baidu.com', 'disen')\n",
    "# del_user(1)"
   ]
  }
 ],
 "metadata": {
  "kernelspec": {
   "display_name": "Python 3",
   "language": "python",
   "name": "python3"
  },
  "language_info": {
   "codemirror_mode": {
    "name": "ipython",
    "version": 3
   },
   "file_extension": ".py",
   "mimetype": "text/x-python",
   "name": "python",
   "nbconvert_exporter": "python",
   "pygments_lexer": "ipython3",
   "version": "3.6.3"
  }
 },
 "nbformat": 4,
 "nbformat_minor": 2
}
