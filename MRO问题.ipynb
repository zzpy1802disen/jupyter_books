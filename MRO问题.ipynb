{
 "cells": [
  {
   "cell_type": "code",
   "execution_count": 2,
   "metadata": {},
   "outputs": [
    {
     "name": "stdout",
     "output_type": "stream",
     "text": [
      "[<class '__main__.SW'>, <class '__main__.Worker'>, <class '__main__.Student'>, <class '__main__.Person'>, <class 'object'>]\n",
      "--SW----\n",
      "--Worker--\n",
      "---Student---\n",
      "--Person init--\n"
     ]
    },
    {
     "data": {
      "text/plain": [
       "<__main__.SW at 0x10793e278>"
      ]
     },
     "execution_count": 2,
     "metadata": {},
     "output_type": "execute_result"
    }
   ],
   "source": [
    "class Person:\n",
    "    def __init__(self):\n",
    "        print('--Person init--')\n",
    "\n",
    "class Worker(Person):\n",
    "    def __init__(self):\n",
    "        print('--Worker--')\n",
    "        super().__init__()\n",
    "\n",
    "class Student(Person):\n",
    "    def __init__(self):\n",
    "        print('---Student---')\n",
    "        super().__init__()\n",
    "\n",
    "# 多继承\n",
    "class SW(Worker, Student):\n",
    "    def __init__(self):\n",
    "        print('--SW----')\n",
    "        super().__init__()\n",
    "        \n",
    "print(SW.mro())  # 按照 BFS和C3算法，将super()动作排序 －－MRO（Method Resolution Order）\n",
    "\n",
    "SW()"
   ]
  }
 ],
 "metadata": {
  "kernelspec": {
   "display_name": "Python 3",
   "language": "python",
   "name": "python3"
  },
  "language_info": {
   "codemirror_mode": {
    "name": "ipython",
    "version": 3
   },
   "file_extension": ".py",
   "mimetype": "text/x-python",
   "name": "python",
   "nbconvert_exporter": "python",
   "pygments_lexer": "ipython3",
   "version": "3.6.3"
  }
 },
 "nbformat": 4,
 "nbformat_minor": 2
}
